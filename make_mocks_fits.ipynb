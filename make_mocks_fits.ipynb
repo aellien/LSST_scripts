{
 "cells": [
  {
   "cell_type": "code",
   "execution_count": null,
   "metadata": {},
   "outputs": [],
   "source": [
    "from astropy.io import fits\n",
    "import numpy as np\n",
    "import h5py\n",
    "import glob\n",
    "from skimage.transform import downscale_local_mean\n",
    "from PIL import Image\n",
    "import copy"
   ]
  },
  {
   "cell_type": "code",
   "execution_count": null,
   "metadata": {},
   "outputs": [],
   "source": [
    "def NormalizeData(data):\n",
    "    return (data - np.min(data)) / (np.max(data) - np.min(data))\n",
    "\n",
    "def make_img_map(img, mu_lim=32, pixel_size=0.2, rng=[22,36]):\n",
    "    imgplot = img + np.random.normal(loc=0, scale=(10**(-0.4*mu_lim)*pixel_size*10.)/3., size=img.shape)\n",
    "    imgflux = copy.copy(imgplot)\n",
    "    imgplot = -2.5*np.log10(imgplot) + 2.5*np.log10((pixel_size)**2)\n",
    "    imgplot[~np.isfinite(imgplot)] = rng[1]\n",
    "    imgplot[imgplot < rng[0]] = rng[0]\n",
    "    imgplot[imgplot > rng[1]] = rng[1]\n",
    "    imgplot = NormalizeData(imgplot)\n",
    "    imgplot = np.uint8(imgplot * 255)\n",
    "    \n",
    "    return imgplot, imgflux"
   ]
  },
  {
   "cell_type": "code",
   "execution_count": null,
   "metadata": {},
   "outputs": [],
   "source": [
    "image_dir = './Magneticum/' # Replace with path containing your images\n",
    "image_files = glob.glob(image_dir+'*.hdf5')\n",
    "image_i = 0\n",
    "mu_lim = 31 # limiting SB, 3 sigma 10\" X 10\"\n",
    "\n",
    "make_png = False\n",
    "make_fits = True"
   ]
  },
  {
   "cell_type": "code",
   "execution_count": null,
   "metadata": {},
   "outputs": [],
   "source": [
    "print(image_files)"
   ]
  },
  {
   "cell_type": "code",
   "execution_count": null,
   "metadata": {},
   "outputs": [],
   "source": [
    "with h5py.File(image_files[image_i], 'r') as f:\n",
    "    image = f['image'][()]\n",
    "    \n",
    "imgplot, imgflux = make_img_map(image, mu_lim=mu_lim, rng=[22,mu_lim+3])"
   ]
  },
  {
   "cell_type": "code",
   "execution_count": null,
   "metadata": {},
   "outputs": [],
   "source": [
    "if make_png:\n",
    "    imgname = image_files[0][-33:-5]+'.png'\n",
    "    image_plot = Image.fromarray(np.uint8(downscale_local_mean(imgplot,(4,4))))\n",
    "    image_plot.save(imgname)"
   ]
  },
  {
   "cell_type": "code",
   "execution_count": null,
   "metadata": {},
   "outputs": [],
   "source": [
    "if make_fits:\n",
    "    # produce fits image with scaling so that -2.5 log10(f) gives AB magnitudes\n",
    "    fitsname = image_files[0][-33:-5]+'.fits'\n",
    "    hdu = fits.PrimaryHDU(imgflux)\n",
    "    hdul = fits.HDUList([hdu])\n",
    "    hdul.writeto(fitsname)"
   ]
  },
  {
   "cell_type": "code",
   "execution_count": null,
   "metadata": {},
   "outputs": [],
   "source": []
  }
 ],
 "metadata": {
  "kernelspec": {
   "display_name": "Python 3",
   "language": "python",
   "name": "python3"
  },
  "language_info": {
   "codemirror_mode": {
    "name": "ipython",
    "version": 3
   },
   "file_extension": ".py",
   "mimetype": "text/x-python",
   "name": "python",
   "nbconvert_exporter": "python",
   "pygments_lexer": "ipython3",
   "version": "3.8.5"
  }
 },
 "nbformat": 4,
 "nbformat_minor": 4
}
